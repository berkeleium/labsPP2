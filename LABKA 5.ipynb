{
 "cells": [
  {
   "cell_type": "markdown",
   "id": "b2e502de-8547-4147-a2f3-2b7f21a604f2",
   "metadata": {},
   "source": [
    "1. Write a Python program that matches a string that has an `'a'` followed by zero or more `'b'`'s."
   ]
  },
  {
   "cell_type": "code",
   "execution_count": 2,
   "id": "bf08a1e4-249c-4509-bada-2b8f1821aae0",
   "metadata": {},
   "outputs": [
    {
     "name": "stdout",
     "output_type": "stream",
     "text": [
      "'a': True\n",
      "'ab': True\n",
      "'abb': True\n",
      "'abbb': True\n",
      "'b': False\n",
      "'ba': False\n",
      "'abc': False\n"
     ]
    }
   ],
   "source": [
    "import re\n",
    "\n",
    "def match_string(s):\n",
    "    pattern = r\"ab*\"\n",
    "\n",
    "    if re.fullmatch(pattern, s):\n",
    "        return True\n",
    "    else:\n",
    "        return False\n",
    "\n",
    "test_strings = [\"a\", \"ab\", \"abb\", \"abbb\", \"b\", \"ba\", \"abc\"]\n",
    "for i in test_strings:\n",
    "    print(f\"'{i}': {match_string(i)}\")"
   ]
  },
  {
   "cell_type": "markdown",
   "id": "1eeba704-a361-4fb5-9637-57e57dc63cb4",
   "metadata": {},
   "source": [
    "2. Write a Python program that matches a string that has an `'a'` followed by two to three `'b'`"
   ]
  },
  {
   "cell_type": "code",
   "execution_count": 5,
   "id": "dedf2b7e-c5b8-4999-a99a-3f49e8b0c0f2",
   "metadata": {},
   "outputs": [
    {
     "name": "stdout",
     "output_type": "stream",
     "text": [
      "'a': False\n",
      "'aabbbb': True\n",
      "'abb': True\n",
      "'sabbb': True\n",
      "'b': False\n",
      "'ba': False\n",
      "'abbc': True\n"
     ]
    }
   ],
   "source": [
    "import re\n",
    "\n",
    "def match_string(s):\n",
    "    pattern = r\"ab{2,3}\"\n",
    "    if re.search(pattern, s):\n",
    "        return True\n",
    "    else:\n",
    "        return False\n",
    "\n",
    "test_strings = [\"a\", \"aabbbb\", \"abb\", \"sabbb\", \"b\", \"ba\", \"abbc\"]\n",
    "\n",
    "for s in test_strings:\n",
    "    print(f\"'{s}': {match_string(s)}\")"
   ]
  },
  {
   "cell_type": "markdown",
   "id": "c8ef532d-060f-4643-8e9b-1bfc3c5668ca",
   "metadata": {},
   "source": [
    "3. Write a Python program to find sequences of lowercase letters joined with a underscore."
   ]
  },
  {
   "cell_type": "code",
   "execution_count": 10,
   "id": "44958111-dd05-4ae2-91e2-53598260b9ac",
   "metadata": {},
   "outputs": [
    {
     "name": "stdout",
     "output_type": "stream",
     "text": [
      "'arbhlwfge_dfknvser': True\n",
      "'awduibdcvA_sjrb': False\n",
      "'auierf_Auierv': False\n",
      "'Ayvjkasdc_Aiufv': False\n",
      "'uerbher9_ae4rgas': False\n",
      "'erfaer': False\n"
     ]
    }
   ],
   "source": [
    "import re\n",
    "\n",
    "def check(s):\n",
    "    pattern = r\"[a-z]+_[a-z]+\"\n",
    "    if re.search(pattern, s):\n",
    "        return True\n",
    "    else:\n",
    "        return False\n",
    "\n",
    "test_strings = [\"arbhlwfge_dfknvser\", \"awduibdcvA_sjrb\", \"auierf_Auierv\", \"Ayvjkasdc_Aiufv\", \"uerbher9_ae4rgas\", \"erfaer\"]\n",
    "\n",
    "for s in test_strings:\n",
    "    print(f\"'{s}': {check(s)}\")"
   ]
  },
  {
   "cell_type": "markdown",
   "id": "f6fde02a-8b10-4c79-ac31-b694ab8dbbb8",
   "metadata": {},
   "source": [
    "4. Write a Python program to find the sequences of one upper case letter followed by lower case letters."
   ]
  },
  {
   "cell_type": "code",
   "execution_count": 13,
   "id": "95576a5d-67f4-41c6-bd41-de8b51e5ab08",
   "metadata": {},
   "outputs": [
    {
     "name": "stdout",
     "output_type": "stream",
     "text": [
      "'arbhlwfge_dfknvser': False\n",
      "'awduibdcvA_sjrb': False\n",
      "'auierf_Auierv': True\n",
      "'Ayvjkasdc_Aiufv': True\n",
      "'uerbher9_ae4rgas': False\n",
      "'erfaer': False\n"
     ]
    }
   ],
   "source": [
    "import re\n",
    "\n",
    "def check(s):\n",
    "    pattern = r\"[A-Z][a-z]+\"\n",
    "    # res = re.match(pattern, s)\n",
    "    # print(res)\n",
    "    if re.search(pattern, s):\n",
    "        return True\n",
    "    else:\n",
    "        return False\n",
    "\n",
    "test_strings = [\"arbhlwfge_dfknvser\", \"awduibdcvA_sjrb\", \"auierf_Auierv\", \"Ayvjkasdc_Aiufv\", \"uerbher9_ae4rgas\", \"erfaer\"]\n",
    "\n",
    "for s in test_strings:\n",
    "    print(f\"'{s}': {check(s)}\")"
   ]
  },
  {
   "cell_type": "markdown",
   "id": "3fa33620-edd4-4233-8876-85a941646ea2",
   "metadata": {},
   "source": [
    "5. Write a Python program that matches a string that has an `'a'` followed by anything, ending in `'b'`."
   ]
  },
  {
   "cell_type": "code",
   "execution_count": 16,
   "id": "ee2f9a94-5d80-4c05-ac4b-92ed2644853f",
   "metadata": {},
   "outputs": [
    {
     "name": "stdout",
     "output_type": "stream",
     "text": [
      "'asdfcastbdf': False\n",
      "'fgryfatcyjb': True\n"
     ]
    }
   ],
   "source": [
    "import re\n",
    "\n",
    "def check(s):\n",
    "    pattern = r\"a[a-z]+b$\"\n",
    "    if re.search(pattern, s):\n",
    "        return True\n",
    "    else:\n",
    "        return False\n",
    "\n",
    "test_strings = [\"asdfcastbdf\", \"fgryfatcyjb\"]\n",
    "\n",
    "for s in test_strings:\n",
    "    print(f\"'{s}': {check(s)}\")"
   ]
  },
  {
   "cell_type": "markdown",
   "id": "3c394e79-1d50-4abb-8d8a-dd3a9e603dd6",
   "metadata": {},
   "source": [
    "6. Write a Python program to replace all occurrences of space, comma, or dot with a colon."
   ]
  },
  {
   "cell_type": "code",
   "execution_count": 20,
   "id": "685fba08-dcb4-4d46-ad38-89545378e09f",
   "metadata": {},
   "outputs": [
    {
     "name": "stdout",
     "output_type": "stream",
     "text": [
      "John's:email:is:john:doe@example:com:Hello:John\n"
     ]
    }
   ],
   "source": [
    "import re\n",
    "\n",
    "text_to_match = \"\"\"John's email is john.doe@example.com Hello John\"\"\"\n",
    "\n",
    "pattern = r\"[ ,.]\"\n",
    "result = re.sub(pattern, \":\" ,text_to_match) \n",
    "print(result)"
   ]
  },
  {
   "cell_type": "markdown",
   "id": "2f162202-3a52-48ed-b9c9-ff7b7b2e1898",
   "metadata": {},
   "source": [
    "7. Write a python program to convert snake case string to camel case string."
   ]
  },
  {
   "cell_type": "code",
   "execution_count": 26,
   "id": "d3f0a827-73f2-42bb-a1f7-b17f188f6c5d",
   "metadata": {},
   "outputs": [
    {
     "name": "stdout",
     "output_type": "stream",
     "text": [
      "snakeCaseString\n"
     ]
    }
   ],
   "source": [
    "import re\n",
    "\n",
    "text_to_convert = \"snake_case_string\"\n",
    "\n",
    "pattern = r\"_\"\n",
    "result = re.sub(pattern, \"\", text_to_convert.title()).replace(\" \", \"\")  \n",
    "result = result[0].lower() + result[1:]  \n",
    "print(result)"
   ]
  },
  {
   "cell_type": "markdown",
   "id": "5bac59d0-0ea7-460a-bb8b-407a45fcf137",
   "metadata": {},
   "source": [
    "8. Write a Python program to split a string at uppercase letters."
   ]
  },
  {
   "cell_type": "code",
   "execution_count": 29,
   "id": "5e368822-574b-4076-bb46-809d17214962",
   "metadata": {},
   "outputs": [
    {
     "name": "stdout",
     "output_type": "stream",
     "text": [
      "['', 'Split', 'This', 'String', 'At', 'Uppercase']\n"
     ]
    }
   ],
   "source": [
    "import re\n",
    "\n",
    "text_to_split = \"SplitThisStringAtUppercase\"\n",
    "\n",
    "pattern = r\"(?=[A-Z])\"\n",
    "result = re.split(pattern, text_to_split) \n",
    "\n",
    "print(result)"
   ]
  },
  {
   "cell_type": "markdown",
   "id": "b867ac74-6c9e-4662-847a-2a04c43821f3",
   "metadata": {},
   "source": [
    "9. Write a Python program to insert spaces between words starting with capital letters."
   ]
  },
  {
   "cell_type": "code",
   "execution_count": 32,
   "id": "24677eb0-1053-4b69-ba26-07676771b757",
   "metadata": {},
   "outputs": [
    {
     "name": "stdout",
     "output_type": "stream",
     "text": [
      " Insert Spaces Between Words Starting With Capitals\n"
     ]
    }
   ],
   "source": [
    "import re\n",
    "\n",
    "text_to_modify = \"InsertSpacesBetweenWordsStartingWithCapitals\"\n",
    "\n",
    "pattern = r\"(?=[A-Z])\"\n",
    "result = \" \".join(re.split(pattern, text_to_modify))\n",
    "\n",
    "print(result)"
   ]
  },
  {
   "cell_type": "markdown",
   "id": "464d629f-7af7-4295-8896-43b7e793652f",
   "metadata": {},
   "source": [
    "10. Write a Python program to convert a given camel case string to snake case."
   ]
  },
  {
   "cell_type": "code",
   "execution_count": 35,
   "id": "15db7eca-b90b-42e8-adad-b4c54b88becb",
   "metadata": {},
   "outputs": [
    {
     "name": "stdout",
     "output_type": "stream",
     "text": [
      "convert_this_camel_case_to_snake_case\n"
     ]
    }
   ],
   "source": [
    "import re\n",
    "\n",
    "text_to_convert = \"ConvertThisCamelCaseToSnakeCase\"\n",
    "\n",
    "pattern = r\"([a-z])([A-Z])\"\n",
    "result = re.sub(pattern, r\"\\1_\\2\", text_to_convert).lower()\n",
    "\n",
    "print(result)"
   ]
  }
 ],
 "metadata": {
  "kernelspec": {
   "display_name": "Python [conda env:base] *",
   "language": "python",
   "name": "conda-base-py"
  },
  "language_info": {
   "codemirror_mode": {
    "name": "ipython",
    "version": 3
   },
   "file_extension": ".py",
   "mimetype": "text/x-python",
   "name": "python",
   "nbconvert_exporter": "python",
   "pygments_lexer": "ipython3",
   "version": "3.12.7"
  }
 },
 "nbformat": 4,
 "nbformat_minor": 5
}
