{
 "cells": [
  {
   "cell_type": "markdown",
   "id": "aafe38f0-1316-4499-8a58-b474f5d9b2a1",
   "metadata": {},
   "source": [
    "Python Iterators"
   ]
  },
  {
   "cell_type": "code",
   "execution_count": 3,
   "id": "308cbab6-30dd-4412-a24f-ab35bb64f7b3",
   "metadata": {},
   "outputs": [],
   "source": [
    "#Python Iterators\n",
    "#An iterator is an object that contains a countable number of values.\n",
    "#An iterator is an object that can be iterated upon, meaning that you can traverse through all the values.\n",
    "#Technically, in Python, an iterator is an object which implements the iterator protocol, which consist of the methods __iter__() and __next__()."
   ]
  },
  {
   "cell_type": "code",
   "execution_count": 5,
   "id": "a0aee149-7ba4-45d8-afd5-481d77c52dbf",
   "metadata": {},
   "outputs": [],
   "source": [
    "#Lists, tuples, dictionaries, and sets are all iterable objects. They are iterable containers which you can get an iterator from.\n",
    "#All these objects have a iter() method which is used to get an iterator:"
   ]
  },
  {
   "cell_type": "code",
   "execution_count": 7,
   "id": "ce1af597-b4d0-4ded-80c2-344348dd5d53",
   "metadata": {},
   "outputs": [
    {
     "name": "stdout",
     "output_type": "stream",
     "text": [
      "apple\n",
      "banana\n",
      "cherry\n"
     ]
    }
   ],
   "source": [
    "#Return an iterator from a tuple, and print each value:\n",
    "mytuple = (\"apple\", \"banana\", \"cherry\")\n",
    "myit = iter(mytuple)\n",
    "\n",
    "print(next(myit))\n",
    "print(next(myit))\n",
    "print(next(myit))"
   ]
  },
  {
   "cell_type": "code",
   "execution_count": 9,
   "id": "8c5feb5b-bc9e-4cdc-83a9-6a846f73ba08",
   "metadata": {},
   "outputs": [
    {
     "name": "stdout",
     "output_type": "stream",
     "text": [
      "b\n",
      "a\n",
      "n\n",
      "a\n",
      "n\n",
      "a\n"
     ]
    }
   ],
   "source": [
    "#Even strings are iterable objects, and can return an iterator:\n",
    "mystr = \"banana\"\n",
    "myit = iter(mystr)\n",
    "\n",
    "print(next(myit))\n",
    "print(next(myit))\n",
    "print(next(myit))\n",
    "print(next(myit))\n",
    "print(next(myit))\n",
    "print(next(myit))"
   ]
  },
  {
   "cell_type": "code",
   "execution_count": 11,
   "id": "89b1023b-d4f7-4314-968b-7d9b987a5151",
   "metadata": {},
   "outputs": [
    {
     "name": "stdout",
     "output_type": "stream",
     "text": [
      "apple\n",
      "banana\n",
      "cherry\n"
     ]
    }
   ],
   "source": [
    "#We can also use a for loop to iterate through an iterable object:\n",
    "mytuple = (\"apple\", \"banana\", \"cherry\")\n",
    "\n",
    "for x in mytuple:\n",
    "  print(x)"
   ]
  },
  {
   "cell_type": "code",
   "execution_count": 13,
   "id": "ede89fb2-129d-4c9c-9aa5-4dd4a54fcd7b",
   "metadata": {},
   "outputs": [
    {
     "name": "stdout",
     "output_type": "stream",
     "text": [
      "b\n",
      "a\n",
      "n\n",
      "a\n",
      "n\n",
      "a\n"
     ]
    }
   ],
   "source": [
    "#Iterate the characters of a string:\n",
    "mystr = \"banana\"\n",
    "\n",
    "for x in mystr:\n",
    "  print(x)\n",
    "#The for loop actually creates an iterator object and executes the next() method for each loop."
   ]
  },
  {
   "cell_type": "code",
   "execution_count": 15,
   "id": "9e139d30-ee86-4260-9c48-4193fdd620d8",
   "metadata": {},
   "outputs": [],
   "source": [
    "#The __iter__() method acts similar, you can do operations (initializing etc.), but must always return the iterator object itself.\n",
    "#The __next__() method also allows you to do operations, and must return the next item in the sequence."
   ]
  },
  {
   "cell_type": "code",
   "execution_count": 17,
   "id": "18d3e60e-963d-46d5-9b2c-86153343ddf5",
   "metadata": {},
   "outputs": [
    {
     "name": "stdout",
     "output_type": "stream",
     "text": [
      "1\n",
      "2\n",
      "3\n",
      "4\n",
      "5\n"
     ]
    }
   ],
   "source": [
    "#Create an iterator that returns numbers, starting with 1, and each sequence will increase by one (returning 1,2,3,4,5 etc.):\n",
    "class MyNumbers:\n",
    "  def __iter__(self):\n",
    "    self.a = 1\n",
    "    return self\n",
    "\n",
    "  def __next__(self):\n",
    "    x = self.a\n",
    "    self.a += 1\n",
    "    return x\n",
    "\n",
    "myclass = MyNumbers()\n",
    "myiter = iter(myclass)\n",
    "\n",
    "print(next(myiter))\n",
    "print(next(myiter))\n",
    "print(next(myiter))\n",
    "print(next(myiter))\n",
    "print(next(myiter))"
   ]
  },
  {
   "cell_type": "code",
   "execution_count": 19,
   "id": "34928771-974c-428e-aef3-9f897f17b648",
   "metadata": {},
   "outputs": [],
   "source": [
    "#To prevent the iteration from going on forever, we can use the StopIteration statement.\n",
    "#In the __next__() method, we can add a terminating condition to raise an error if the iteration is done a specified number of times:"
   ]
  },
  {
   "cell_type": "code",
   "execution_count": 21,
   "id": "488327a2-8158-4460-8aad-e15301b067b5",
   "metadata": {},
   "outputs": [
    {
     "name": "stdout",
     "output_type": "stream",
     "text": [
      "1\n",
      "2\n",
      "3\n",
      "4\n",
      "5\n",
      "6\n",
      "7\n",
      "8\n",
      "9\n",
      "10\n",
      "11\n",
      "12\n",
      "13\n",
      "14\n",
      "15\n",
      "16\n",
      "17\n",
      "18\n",
      "19\n",
      "20\n"
     ]
    }
   ],
   "source": [
    "#Stop after 20 iterations:\n",
    "class MyNumbers:\n",
    "  def __iter__(self):\n",
    "    self.a = 1\n",
    "    return self\n",
    "\n",
    "  def __next__(self):\n",
    "    if self.a <= 20:\n",
    "      x = self.a\n",
    "      self.a += 1\n",
    "      return x\n",
    "    else:\n",
    "      raise StopIteration\n",
    "\n",
    "myclass = MyNumbers()\n",
    "myiter = iter(myclass)\n",
    "\n",
    "for x in myiter:\n",
    "  print(x)"
   ]
  },
  {
   "cell_type": "markdown",
   "id": "3524d337-cc09-4d4a-a5ef-2d8c4ada3d50",
   "metadata": {},
   "source": [
    "Python Generators"
   ]
  },
  {
   "cell_type": "code",
   "execution_count": 24,
   "id": "6d478a3d-43cd-4227-b748-f24120feec11",
   "metadata": {},
   "outputs": [],
   "source": [
    "#A generator function is a special type of function that returns an iterator object. \n",
    "#Instead of using return to send back a single value, generator functions use yield to produce a series of results over time.\n",
    "#This allows the function to generate values and pause its execution after each yield, maintaining its state between iterations."
   ]
  },
  {
   "cell_type": "code",
   "execution_count": 26,
   "id": "ea4774ca-d438-49e7-9265-bbaee226e0a6",
   "metadata": {},
   "outputs": [
    {
     "name": "stdout",
     "output_type": "stream",
     "text": [
      "1\n",
      "2\n",
      "3\n",
      "4\n",
      "5\n"
     ]
    }
   ],
   "source": [
    "def fun(max):\n",
    "    cnt = 1\n",
    "    while cnt <= max:\n",
    "        yield cnt\n",
    "        cnt += 1\n",
    "\n",
    "ctr = fun(5)\n",
    "for n in ctr:\n",
    "    print(n)"
   ]
  },
  {
   "cell_type": "code",
   "execution_count": null,
   "id": "077f6143-580c-41b6-987b-ee754230688d",
   "metadata": {},
   "outputs": [],
   "source": [
    "# A generator function that yields 1 for first time,\n",
    "# 2 second time and 3 third time\n",
    "def fun():\n",
    "    yield 1            \n",
    "    yield 2            \n",
    "    yield 3            \n",
    " \n",
    "# Driver code to check above generator function\n",
    "for val in fun(): \n",
    "    print(val)"
   ]
  },
  {
   "cell_type": "code",
   "execution_count": 32,
   "id": "da169b8e-7b5d-4258-aa6e-43458242df9e",
   "metadata": {},
   "outputs": [],
   "source": [
    "#yield is used in generator functions to provide a sequence of values over time. When yield is executed, \n",
    "#it pauses the function, returns the current value and retains the state of the function. \n",
    "#This allows the function to continue from the same point when called again, making it ideal for generating large or complex sequences efficiently.\n",
    "\n",
    "#return, on the other hand, is used to exit a function and return a final value. Once return is executed, \n",
    "#the function is terminated immediately, and no state is retained. \n",
    "#This is suitable for cases where a single result is needed from a function."
   ]
  },
  {
   "cell_type": "code",
   "execution_count": 34,
   "id": "0ce4ec00-2e71-4c68-afa5-1fc9fae2f453",
   "metadata": {},
   "outputs": [
    {
     "name": "stdout",
     "output_type": "stream",
     "text": [
      "6\n"
     ]
    }
   ],
   "source": [
    "def fun():\n",
    "    return 1 + 2 + 3\n",
    "\n",
    "res = fun()\n",
    "print(res)  "
   ]
  },
  {
   "cell_type": "code",
   "execution_count": 36,
   "id": "022c4fdb-3d94-4c94-af22-9d2cc30a0404",
   "metadata": {},
   "outputs": [],
   "source": [
    "#Benefits of using generators:\n",
    "#Memory Efficiency: Generators generate values on the fly, reducing memory usage compared to storing the entire sequence in memory.\n",
    "#Lazy Evaluation: Values are computed only when needed, which can lead to performance improvements, especially with large datasets."
   ]
  },
  {
   "cell_type": "markdown",
   "id": "c6cb5a2b-395c-441a-9f57-450fd35fe727",
   "metadata": {},
   "source": [
    "Python Scope"
   ]
  },
  {
   "cell_type": "code",
   "execution_count": 39,
   "id": "322cce6c-b7e3-4d73-89d9-741d9c60c834",
   "metadata": {},
   "outputs": [],
   "source": [
    "#A variable is only available from inside the region it is created. This is called scope."
   ]
  },
  {
   "cell_type": "code",
   "execution_count": 41,
   "id": "d7cdc678-a0f5-4b4f-8a7b-314ce7e3800b",
   "metadata": {},
   "outputs": [],
   "source": [
    "#A variable created inside a function belongs to the local scope of that function, and can only be used inside that function."
   ]
  },
  {
   "cell_type": "code",
   "execution_count": 43,
   "id": "04c67063-df3d-4242-a167-a19eea8f1113",
   "metadata": {},
   "outputs": [
    {
     "name": "stdout",
     "output_type": "stream",
     "text": [
      "300\n"
     ]
    }
   ],
   "source": [
    "#A variable created inside a function is available inside that function:\n",
    "def myfunc():\n",
    "  x = 300\n",
    "  print(x)\n",
    "\n",
    "myfunc()"
   ]
  },
  {
   "cell_type": "code",
   "execution_count": 45,
   "id": "1d1367f5-34ec-44de-b030-172455b59d5d",
   "metadata": {},
   "outputs": [],
   "source": [
    "#As explained in the example above, the variable x is not available outside the function, but it is available for any function inside the function:"
   ]
  },
  {
   "cell_type": "code",
   "execution_count": 47,
   "id": "6036b194-7e9e-4da5-92cf-09e79f9adf87",
   "metadata": {},
   "outputs": [
    {
     "name": "stdout",
     "output_type": "stream",
     "text": [
      "300\n"
     ]
    }
   ],
   "source": [
    "#The local variable can be accessed from a function within the function:\n",
    "def myfunc():\n",
    "  x = 300\n",
    "  def myinnerfunc():\n",
    "    print(x)\n",
    "  myinnerfunc()\n",
    "\n",
    "myfunc()"
   ]
  },
  {
   "cell_type": "code",
   "execution_count": 49,
   "id": "05a5c869-c5ae-4f5b-8ba0-cf54545d55a3",
   "metadata": {},
   "outputs": [],
   "source": [
    "#A variable created in the main body of the Python code is a global variable and belongs to the global scope.\n",
    "#Global variables are available from within any scope, global and local."
   ]
  },
  {
   "cell_type": "code",
   "execution_count": 51,
   "id": "c662eae6-cb1e-402b-adda-677745ba3629",
   "metadata": {},
   "outputs": [
    {
     "name": "stdout",
     "output_type": "stream",
     "text": [
      "300\n",
      "300\n"
     ]
    }
   ],
   "source": [
    "#A variable created outside of a function is global and can be used by anyone:\n",
    "x = 300\n",
    "\n",
    "def myfunc():\n",
    "  print(x)\n",
    "\n",
    "myfunc()\n",
    "\n",
    "print(x)"
   ]
  },
  {
   "cell_type": "code",
   "execution_count": 53,
   "id": "6c55ae1f-94e2-4489-ab7d-91400df524cd",
   "metadata": {},
   "outputs": [],
   "source": [
    "#If you operate with the same variable name inside and outside of a function, Python will treat them as two separate variables, \n",
    "#one available in the global scope (outside the function) and one available in the local scope (inside the function):"
   ]
  },
  {
   "cell_type": "code",
   "execution_count": 55,
   "id": "959c7ada-2cac-4fe0-a868-2fb860ecf54f",
   "metadata": {},
   "outputs": [
    {
     "name": "stdout",
     "output_type": "stream",
     "text": [
      "200\n",
      "300\n"
     ]
    }
   ],
   "source": [
    "#The function will print the local x, and then the code will print the global x:\n",
    "x = 300\n",
    "\n",
    "def myfunc():\n",
    "  x = 200\n",
    "  print(x)\n",
    "\n",
    "myfunc()\n",
    "\n",
    "print(x)"
   ]
  },
  {
   "cell_type": "code",
   "execution_count": 57,
   "id": "3b0d54d2-1dcd-4822-8051-293da9766658",
   "metadata": {},
   "outputs": [],
   "source": [
    "#If you need to create a global variable, but are stuck in the local scope, you can use the global keyword.\n",
    "#The global keyword makes the variable global."
   ]
  },
  {
   "cell_type": "code",
   "execution_count": 59,
   "id": "40a34309-2693-49e4-b274-f100d9960d65",
   "metadata": {},
   "outputs": [
    {
     "name": "stdout",
     "output_type": "stream",
     "text": [
      "300\n"
     ]
    }
   ],
   "source": [
    "#If you use the global keyword, the variable belongs to the global scope:\n",
    "def myfunc():\n",
    "  global x\n",
    "  x = 300\n",
    "\n",
    "myfunc()\n",
    "\n",
    "print(x)"
   ]
  },
  {
   "cell_type": "code",
   "execution_count": 61,
   "id": "601a901b-4e43-40e3-8061-4f5946efe66d",
   "metadata": {},
   "outputs": [],
   "source": [
    "#Also, use the global keyword if you want to make a change to a global variable inside a function."
   ]
  },
  {
   "cell_type": "code",
   "execution_count": 63,
   "id": "96107e68-e36d-43d6-8f6b-4e1acdb1c41b",
   "metadata": {},
   "outputs": [
    {
     "name": "stdout",
     "output_type": "stream",
     "text": [
      "200\n"
     ]
    }
   ],
   "source": [
    "#To change the value of a global variable inside a function, refer to the variable by using the global keyword:\n",
    "x = 300\n",
    "\n",
    "def myfunc():\n",
    "  global x\n",
    "  x = 200\n",
    "\n",
    "myfunc()\n",
    "\n",
    "print(x)"
   ]
  },
  {
   "cell_type": "code",
   "execution_count": 65,
   "id": "2264849b-1a8f-40f2-9384-b8592912bd8e",
   "metadata": {},
   "outputs": [],
   "source": [
    "#The nonlocal keyword is used to work with variables inside nested functions.\n",
    "#The nonlocal keyword makes the variable belong to the outer function."
   ]
  },
  {
   "cell_type": "code",
   "execution_count": 67,
   "id": "fa8e76f3-6fa2-4ad7-bc42-b9ff05270180",
   "metadata": {},
   "outputs": [
    {
     "name": "stdout",
     "output_type": "stream",
     "text": [
      "hello\n"
     ]
    }
   ],
   "source": [
    "#If you use the nonlocal keyword, the variable will belong to the outer function:\n",
    "def myfunc1():\n",
    "  x = \"Jane\"\n",
    "  def myfunc2():\n",
    "    nonlocal x\n",
    "    x = \"hello\"\n",
    "  myfunc2()\n",
    "  return x\n",
    "\n",
    "print(myfunc1())"
   ]
  },
  {
   "cell_type": "markdown",
   "id": "682c3b1b-6cbf-4fea-87b8-9668fdb7ec72",
   "metadata": {},
   "source": [
    "Python Modules"
   ]
  },
  {
   "cell_type": "code",
   "execution_count": 72,
   "id": "1a2f1749-0178-41eb-bc8e-010d2683673b",
   "metadata": {},
   "outputs": [],
   "source": [
    "#Consider a module to be the same as a code library.\n",
    "#A file containing a set of functions you want to include in your application."
   ]
  },
  {
   "cell_type": "code",
   "execution_count": 74,
   "id": "8520b563-52c3-44d1-95e3-8c34c4590ca5",
   "metadata": {},
   "outputs": [],
   "source": [
    "#To create a module just save the code you want in a file with the file extension .py:"
   ]
  },
  {
   "cell_type": "code",
   "execution_count": 76,
   "id": "f2dc71a7-478d-461e-864b-4391933ec5e6",
   "metadata": {},
   "outputs": [],
   "source": [
    "#Save this code in a file named mymodule.py\n",
    "def greeting(name):\n",
    "  print(\"Hello, \" + name)"
   ]
  },
  {
   "cell_type": "code",
   "execution_count": 78,
   "id": "202b5383-2f14-4f4f-9171-8f8eb5c7dc42",
   "metadata": {},
   "outputs": [],
   "source": [
    "#Now we can use the module we just created, by using the import statement:"
   ]
  },
  {
   "cell_type": "code",
   "execution_count": null,
   "id": "6930e907-8732-42f6-a94d-425cf8fc7b1b",
   "metadata": {},
   "outputs": [],
   "source": [
    "#Import the module named mymodule, and call the greeting function:\n",
    "\n",
    "import mymodule\n",
    "\n",
    "mymodule.greeting(\"Jonathan\")"
   ]
  },
  {
   "cell_type": "code",
   "execution_count": 82,
   "id": "e057d04c-abca-4362-a1b2-af5935fc76ff",
   "metadata": {},
   "outputs": [],
   "source": [
    "#Note: When using a function from a module, use the syntax: module_name.function_name."
   ]
  },
  {
   "cell_type": "code",
   "execution_count": 84,
   "id": "5f48930e-241c-4704-827e-694232da8141",
   "metadata": {},
   "outputs": [],
   "source": [
    "#The module can contain functions, as already described, but also variables of all types (arrays, dictionaries, objects etc):"
   ]
  },
  {
   "cell_type": "code",
   "execution_count": 86,
   "id": "5ccd016c-e43e-4e4d-98c3-6197b3dd0024",
   "metadata": {},
   "outputs": [],
   "source": [
    "#Save this code in the file mymodule.py\n",
    "person1 = {\n",
    "  \"name\": \"John\",\n",
    "  \"age\": 36,\n",
    "  \"country\": \"Norway\"\n",
    "}"
   ]
  },
  {
   "cell_type": "code",
   "execution_count": null,
   "id": "6400a19d-ed9d-4aa0-b91a-3d4c41d30413",
   "metadata": {},
   "outputs": [],
   "source": [
    "#Import the module named mymodule, and access the person1 dictionary:\n",
    "import mymodule\n",
    "\n",
    "a = mymodule.person1[\"age\"]\n",
    "print(a)"
   ]
  },
  {
   "cell_type": "code",
   "execution_count": 88,
   "id": "51ba9894-3c2f-4224-9563-8921aa895b43",
   "metadata": {},
   "outputs": [],
   "source": [
    "#You can name the module file whatever you like, but it must have the file extension .py"
   ]
  },
  {
   "cell_type": "code",
   "execution_count": 90,
   "id": "81ce0c3a-e436-4029-8892-6f7d5e0e584d",
   "metadata": {},
   "outputs": [],
   "source": [
    "#You can create an alias when you import a module, by using the as keyword:"
   ]
  },
  {
   "cell_type": "code",
   "execution_count": null,
   "id": "48418e4d-0656-4eaa-89bb-a74894d67cca",
   "metadata": {},
   "outputs": [],
   "source": [
    "#Create an alias for mymodule called mx:\n",
    "\n",
    "import mymodule as mx\n",
    "\n",
    "a = mx.person1[\"age\"]\n",
    "print(a)"
   ]
  },
  {
   "cell_type": "code",
   "execution_count": 94,
   "id": "348b5b53-1312-41cc-9d55-44260be74ec7",
   "metadata": {},
   "outputs": [],
   "source": [
    "#There are several built-in modules in Python, which you can import whenever you like."
   ]
  },
  {
   "cell_type": "code",
   "execution_count": 96,
   "id": "003c8577-bf53-41b6-a37f-787495f727ff",
   "metadata": {},
   "outputs": [
    {
     "name": "stdout",
     "output_type": "stream",
     "text": [
      "Windows\n"
     ]
    }
   ],
   "source": [
    "#Import and use the platform module:\n",
    "import platform\n",
    "\n",
    "x = platform.system()\n",
    "print(x)"
   ]
  },
  {
   "cell_type": "code",
   "execution_count": 98,
   "id": "e5e0708b-9a51-4fe1-b5b7-98f157074164",
   "metadata": {},
   "outputs": [],
   "source": [
    "#There is a built-in function to list all the function names (or variable names) in a module. The dir() function:"
   ]
  },
  {
   "cell_type": "code",
   "execution_count": 100,
   "id": "b0f8ba6d-efb0-4058-98c2-a719188ad77e",
   "metadata": {},
   "outputs": [
    {
     "name": "stdout",
     "output_type": "stream",
     "text": [
      "['_Processor', '_WIN32_CLIENT_RELEASES', '_WIN32_SERVER_RELEASES', '__builtins__', '__cached__', '__copyright__', '__doc__', '__file__', '__loader__', '__name__', '__package__', '__spec__', '__version__', '_comparable_version', '_default_architecture', '_follow_symlinks', '_get_machine_win32', '_java_getprop', '_mac_ver_xml', '_node', '_norm_version', '_os_release_cache', '_os_release_candidates', '_parse_os_release', '_platform', '_platform_cache', '_sys_version', '_sys_version_cache', '_syscmd_file', '_syscmd_ver', '_uname_cache', '_unknown_as_blank', '_ver_stages', '_win32_ver', '_wmi', '_wmi_query', 'architecture', 'collections', 'freedesktop_os_release', 'functools', 'itertools', 'java_ver', 'libc_ver', 'mac_ver', 'machine', 'node', 'os', 'platform', 'processor', 'python_branch', 'python_build', 'python_compiler', 'python_implementation', 'python_revision', 'python_version', 'python_version_tuple', 're', 'release', 'sys', 'system', 'system_alias', 'uname', 'uname_result', 'version', 'win32_edition', 'win32_is_iot', 'win32_ver']\n"
     ]
    }
   ],
   "source": [
    "#List all the defined names belonging to the platform module:\n",
    "import platform\n",
    "\n",
    "x = dir(platform)\n",
    "print(x)"
   ]
  },
  {
   "cell_type": "code",
   "execution_count": 102,
   "id": "f2eee315-8072-4f15-a590-95e90659cbc9",
   "metadata": {},
   "outputs": [],
   "source": [
    "#The dir() function can be used on all modules, also the ones you create yourself."
   ]
  },
  {
   "cell_type": "code",
   "execution_count": 104,
   "id": "6b061cb1-0ad5-40c4-b2f7-82c518f1848b",
   "metadata": {},
   "outputs": [],
   "source": [
    "#You can choose to import only parts from a module, by using the from keyword."
   ]
  },
  {
   "cell_type": "code",
   "execution_count": 106,
   "id": "0a23874c-92b2-4022-8aed-3d2613436d66",
   "metadata": {},
   "outputs": [],
   "source": [
    "#The module named mymodule has one function and one dictionary:\n",
    "\n",
    "def greeting(name):\n",
    "  print(\"Hello, \" + name)\n",
    "\n",
    "person1 = {\n",
    "  \"name\": \"John\",\n",
    "  \"age\": 36,\n",
    "  \"country\": \"Norway\"\n",
    "}\n"
   ]
  },
  {
   "cell_type": "code",
   "execution_count": null,
   "id": "7dc29846-2deb-4ea8-b447-d43951b1683d",
   "metadata": {},
   "outputs": [],
   "source": [
    "#Import only the person1 dictionary from the module:\n",
    "\n",
    "from mymodule import person1\n",
    "\n",
    "print (person1[\"age\"])"
   ]
  },
  {
   "cell_type": "markdown",
   "id": "76c0306d-a4fe-4337-9b14-aee7d546c809",
   "metadata": {},
   "source": [
    "Python Dates"
   ]
  },
  {
   "cell_type": "code",
   "execution_count": 112,
   "id": "079cd92f-4947-4af7-a5a9-98eab3a32936",
   "metadata": {},
   "outputs": [],
   "source": [
    "#A date in Python is not a data type of its own, but we can import a module named datetime to work with dates as date objects."
   ]
  },
  {
   "cell_type": "code",
   "execution_count": 114,
   "id": "c5255094-ede0-40ad-8681-d68d6ac04798",
   "metadata": {},
   "outputs": [
    {
     "name": "stdout",
     "output_type": "stream",
     "text": [
      "2025-02-20 04:21:52.823617\n"
     ]
    }
   ],
   "source": [
    "#Import the datetime module and display the current date:\n",
    "\n",
    "import datetime\n",
    "\n",
    "x = datetime.datetime.now()\n",
    "print(x)"
   ]
  },
  {
   "cell_type": "code",
   "execution_count": 118,
   "id": "6d684b98-c2d3-4901-ba83-ba9dc82fa056",
   "metadata": {},
   "outputs": [],
   "source": [
    "#When we execute the code from the example above the result will be:\n",
    "#2025-02-20 04:20:33.302865\n",
    "#The date contains year, month, day, hour, minute, second, and microsecond.\n",
    "#The datetime module has many methods to return information about the date object."
   ]
  },
  {
   "cell_type": "code",
   "execution_count": 120,
   "id": "8bfcf344-1977-41fb-bfc9-9c0174b32730",
   "metadata": {},
   "outputs": [
    {
     "name": "stdout",
     "output_type": "stream",
     "text": [
      "2025\n",
      "Thursday\n"
     ]
    }
   ],
   "source": [
    "#Return the year and name of weekday:\n",
    "import datetime\n",
    "\n",
    "x = datetime.datetime.now()\n",
    "\n",
    "print(x.year)\n",
    "print(x.strftime(\"%A\"))"
   ]
  },
  {
   "cell_type": "code",
   "execution_count": 122,
   "id": "ab3bd7f2-4e5a-4e88-9229-5b3d6cf25ffd",
   "metadata": {},
   "outputs": [],
   "source": [
    "#To create a date, we can use the datetime() class (constructor) of the datetime module.\n",
    "#The datetime() class requires three parameters to create a date: year, month, day."
   ]
  },
  {
   "cell_type": "code",
   "execution_count": 126,
   "id": "3cc00adc-18c2-4167-864e-47637824e788",
   "metadata": {},
   "outputs": [
    {
     "name": "stdout",
     "output_type": "stream",
     "text": [
      "2020-05-17 00:00:00\n"
     ]
    }
   ],
   "source": [
    "#Create a date object:\n",
    "import datetime\n",
    "\n",
    "x = datetime.datetime(2020, 5, 17)\n",
    "\n",
    "print(x)"
   ]
  },
  {
   "cell_type": "code",
   "execution_count": 128,
   "id": "1a27e087-c097-4b68-a491-d30abd9a9b9c",
   "metadata": {},
   "outputs": [],
   "source": [
    "#The datetime() class also takes parameters for time and timezone (hour, minute, second, microsecond, tzone), but they are optional,\n",
    "#and has a default value of 0, (None for timezone)."
   ]
  },
  {
   "cell_type": "code",
   "execution_count": 130,
   "id": "39cdcd5b-82c6-431e-a1e3-e4fe73d15df9",
   "metadata": {},
   "outputs": [],
   "source": [
    "#The datetime object has a method for formatting date objects into readable strings.\n",
    "#The method is called strftime(), and takes one parameter, format, to specify the format of the returned string:"
   ]
  },
  {
   "cell_type": "code",
   "execution_count": 132,
   "id": "a0b82708-ab5b-4439-92e1-2a236fac8a9c",
   "metadata": {},
   "outputs": [
    {
     "name": "stdout",
     "output_type": "stream",
     "text": [
      "June\n"
     ]
    }
   ],
   "source": [
    "#Display the name of the month:\n",
    "import datetime\n",
    "\n",
    "x = datetime.datetime(2018, 6, 1)\n",
    "\n",
    "print(x.strftime(\"%B\"))"
   ]
  },
  {
   "cell_type": "code",
   "execution_count": 138,
   "id": "55d9b386-7d7c-40e5-85ec-91c219e546a6",
   "metadata": {},
   "outputs": [],
   "source": [
    "#Directive\t           Description\t                                 Example\t\n",
    "#%a\t                   Weekday, short version\t                     Wed\t\n",
    "#%A\t                   Weekday, full version\t                     Wednesday\t\n",
    "#%w\t                   Weekday as a number 0-6, 0 is Sunday\t         3\t\n",
    "#%d\t                   Day of month 01-31\t                         31\t\n",
    "#%b\t                   Month name, short version\t                 Dec\t\n",
    "#%B\t                   Month name, full version\t                     December\t\n",
    "#%m\t                   Month as a number 01-12\t                     12\t\n",
    "#%y\t                   Year, short version, without century\t         18\t\n",
    "#%Y\t                   Year, full version\t                         2018\t\n",
    "#%H\t                   Hour 00-23\t                                 17\t\n",
    "#%I\t                   Hour 00-12\t                                 05\t\n",
    "#%p\t                   AM/PM\t                                     PM\t\n",
    "#%M\t                   Minute 00-59                                  41\t\n",
    "#%S\t                   Second 00-59\t                                 08\t\n",
    "#%f\t                   Microsecond 000000-999999\t                 548513\t\n",
    "#%z\t                   UTC offset\t                                 +0100\t\n",
    "#%Z\t                   Timezone\t                                     CST\t\n",
    "#%j\t                   Day number of year 001-366\t                 365\t\n",
    "#%U\t    Week number of year, Sunday as the first day of week, 00-53\t 52\t\n",
    "#%W\t    Week number of year, Monday as the first day of week, 00-53\t 52\t\n",
    "#%c\t                   Local version of date and time\t             Mon Dec 31 17:41:00 2018\t\n",
    "#%C\t                   Century\t                                     20\t\n",
    "#%x\t                   Local version of date\t                     12/31/18\t\n",
    "#%X\t                   Local version of time\t                     17:41:00\t\n",
    "#%%\t                   A % character\t                             %\t\n",
    "#%G\t                   ISO 8601 year\t                             2018\t\n",
    "#%u\t                   ISO 8601 weekday (1-7)\t                     1\t\n",
    "#%V\t                   ISO 8601 weeknumber (01-53)\t                 01"
   ]
  },
  {
   "cell_type": "markdown",
   "id": "5cddf97f-5238-439b-9851-34a420519538",
   "metadata": {},
   "source": [
    "Python Math"
   ]
  },
  {
   "cell_type": "code",
   "execution_count": 143,
   "id": "4d728aaf-0d64-4437-beae-3c48671fcc5c",
   "metadata": {},
   "outputs": [],
   "source": [
    "#Python has a set of built-in math functions, including an extensive math module, that allows you to perform mathematical tasks on numbers."
   ]
  },
  {
   "cell_type": "code",
   "execution_count": 145,
   "id": "d6ed9ae9-8a5c-4250-91dd-74e17ac6338b",
   "metadata": {},
   "outputs": [],
   "source": [
    "#The min() and max() functions can be used to find the lowest or highest value in an iterable:"
   ]
  },
  {
   "cell_type": "code",
   "execution_count": 147,
   "id": "3f429c2d-af01-47a0-9292-1b4dbab2d7c6",
   "metadata": {},
   "outputs": [
    {
     "name": "stdout",
     "output_type": "stream",
     "text": [
      "5\n",
      "25\n"
     ]
    }
   ],
   "source": [
    "x = min(5, 10, 25)\n",
    "y = max(5, 10, 25)\n",
    "\n",
    "print(x)\n",
    "print(y)"
   ]
  },
  {
   "cell_type": "code",
   "execution_count": 149,
   "id": "e78ea401-141e-4c56-9ba3-c0bee8483749",
   "metadata": {},
   "outputs": [],
   "source": [
    "#The abs() function returns the absolute (positive) value of the specified number:"
   ]
  },
  {
   "cell_type": "code",
   "execution_count": 151,
   "id": "991c77c4-aa39-4910-950e-53af213af5e0",
   "metadata": {},
   "outputs": [
    {
     "name": "stdout",
     "output_type": "stream",
     "text": [
      "7.25\n"
     ]
    }
   ],
   "source": [
    "x = abs(-7.25)\n",
    "\n",
    "print(x)"
   ]
  },
  {
   "cell_type": "code",
   "execution_count": 153,
   "id": "12ae1cff-97fb-45cb-9a5d-e26f0379a8d5",
   "metadata": {},
   "outputs": [],
   "source": [
    "#The pow(x, y) function returns the value of x to the power of y (xy)."
   ]
  },
  {
   "cell_type": "code",
   "execution_count": 159,
   "id": "11db5617-baee-4350-b2e5-492a73e8910c",
   "metadata": {},
   "outputs": [
    {
     "name": "stdout",
     "output_type": "stream",
     "text": [
      "64\n"
     ]
    }
   ],
   "source": [
    "x = pow(4, 3)\n",
    "print(x)"
   ]
  },
  {
   "cell_type": "code",
   "execution_count": 157,
   "id": "d93c4a91-4da7-413b-bcd0-13fcecfccb4a",
   "metadata": {},
   "outputs": [],
   "source": [
    "#Python has also a built-in module called math, which extends the list of mathematical functions.\n",
    "#To use it, you must import the math module:"
   ]
  },
  {
   "cell_type": "code",
   "execution_count": 161,
   "id": "bc654327-b308-4896-bf08-949e2f893197",
   "metadata": {},
   "outputs": [],
   "source": [
    "import math"
   ]
  },
  {
   "cell_type": "code",
   "execution_count": 163,
   "id": "c34c006d-c38d-4d07-8102-e31dae8bbe26",
   "metadata": {},
   "outputs": [],
   "source": [
    "#When you have imported the math module, you can start using methods and constants of the module.\n",
    "#The math.sqrt() method for example, returns the square root of a number:"
   ]
  },
  {
   "cell_type": "code",
   "execution_count": 165,
   "id": "fffbe9ae-fd90-4f75-82c5-36e72b6b311e",
   "metadata": {},
   "outputs": [
    {
     "name": "stdout",
     "output_type": "stream",
     "text": [
      "8.0\n"
     ]
    }
   ],
   "source": [
    "import math\n",
    "\n",
    "x = math.sqrt(64)\n",
    "\n",
    "print(x)"
   ]
  },
  {
   "cell_type": "code",
   "execution_count": 167,
   "id": "d6117bbd-49c8-4772-8f54-2ec4b1964952",
   "metadata": {},
   "outputs": [],
   "source": [
    "#The math.ceil() method rounds a number upwards to its nearest integer, and the math.floor() method rounds a number downwards to its nearest integer, \n",
    "#and returns the result:"
   ]
  },
  {
   "cell_type": "code",
   "execution_count": 169,
   "id": "e95710ef-909e-4187-8711-d73630a63d4c",
   "metadata": {},
   "outputs": [
    {
     "name": "stdout",
     "output_type": "stream",
     "text": [
      "2\n",
      "1\n"
     ]
    }
   ],
   "source": [
    "import math\n",
    "\n",
    "x = math.ceil(1.4)\n",
    "y = math.floor(1.4)\n",
    "\n",
    "print(x) # returns 2\n",
    "print(y) # returns 1"
   ]
  },
  {
   "cell_type": "code",
   "execution_count": 171,
   "id": "59b6e268-1c42-4a72-a122-c0c7e97fd2e8",
   "metadata": {},
   "outputs": [],
   "source": [
    "#The math.pi constant, returns the value of PI (3.14...):"
   ]
  },
  {
   "cell_type": "code",
   "execution_count": 173,
   "id": "06b6f2f3-5069-44f4-8596-22e6595e7a79",
   "metadata": {},
   "outputs": [
    {
     "name": "stdout",
     "output_type": "stream",
     "text": [
      "3.141592653589793\n"
     ]
    }
   ],
   "source": [
    "import math\n",
    "\n",
    "x = math.pi\n",
    "\n",
    "print(x)"
   ]
  },
  {
   "cell_type": "markdown",
   "id": "807de533-f227-44d6-983e-fa5f2a750606",
   "metadata": {},
   "source": [
    "Python JSON"
   ]
  },
  {
   "cell_type": "code",
   "execution_count": 176,
   "id": "ab822425-de9f-47f6-920d-577e86ccbacb",
   "metadata": {},
   "outputs": [],
   "source": [
    "#JSON is a syntax for storing and exchanging data.\n",
    "#JSON is text, written with JavaScript object notation."
   ]
  },
  {
   "cell_type": "code",
   "execution_count": 178,
   "id": "c02a6dca-7237-413b-81af-094adadbc4a5",
   "metadata": {},
   "outputs": [],
   "source": [
    "#Python has a built-in package called json, which can be used to work with JSON data."
   ]
  },
  {
   "cell_type": "code",
   "execution_count": 180,
   "id": "0cdcb7d2-3b3d-4420-9beb-3cb8cdad3408",
   "metadata": {},
   "outputs": [],
   "source": [
    "#Import the json module:\n",
    "\n",
    "import json"
   ]
  },
  {
   "cell_type": "code",
   "execution_count": 184,
   "id": "e5861277-9f8e-4ba1-b780-756064b2fd69",
   "metadata": {},
   "outputs": [],
   "source": [
    "#If you have a JSON string, you can parse it by using the json.loads() method.\n",
    "#The result will be a Python dictionary."
   ]
  },
  {
   "cell_type": "code",
   "execution_count": 186,
   "id": "edb72e93-e614-40e8-87c9-6ae7490255df",
   "metadata": {},
   "outputs": [
    {
     "name": "stdout",
     "output_type": "stream",
     "text": [
      "30\n"
     ]
    }
   ],
   "source": [
    "#Convert from JSON to Python:\n",
    "import json\n",
    "\n",
    "# some JSON:\n",
    "x =  '{ \"name\":\"John\", \"age\":30, \"city\":\"New York\"}'\n",
    "\n",
    "# parse x:\n",
    "y = json.loads(x)\n",
    "\n",
    "# the result is a Python dictionary:\n",
    "print(y[\"age\"])"
   ]
  },
  {
   "cell_type": "code",
   "execution_count": 188,
   "id": "84ccfdda-b404-406f-9aed-8b92abcaf3db",
   "metadata": {},
   "outputs": [],
   "source": [
    "#If you have a Python object, you can convert it into a JSON string by using the json.dumps() method."
   ]
  },
  {
   "cell_type": "code",
   "execution_count": 190,
   "id": "1fb6c1d6-8fff-45bb-883d-ad0cdc1da75a",
   "metadata": {},
   "outputs": [
    {
     "name": "stdout",
     "output_type": "stream",
     "text": [
      "{\"name\": \"John\", \"age\": 30, \"city\": \"New York\"}\n"
     ]
    }
   ],
   "source": [
    "#Convert from Python to JSON:\n",
    "import json\n",
    "\n",
    "# a Python object (dict):\n",
    "x = {\n",
    "  \"name\": \"John\",\n",
    "  \"age\": 30,\n",
    "  \"city\": \"New York\"\n",
    "}\n",
    "\n",
    "# convert into JSON:\n",
    "y = json.dumps(x)\n",
    "\n",
    "# the result is a JSON string:\n",
    "print(y)"
   ]
  },
  {
   "cell_type": "code",
   "execution_count": 194,
   "id": "0f8e0869-640a-4306-ac04-e69dda717c62",
   "metadata": {},
   "outputs": [],
   "source": [
    "#You can convert Python objects of the following types, into JSON strings:\n",
    "#dict\n",
    "#list\n",
    "#tuple\n",
    "#string\n",
    "#int\n",
    "#float\n",
    "#True\n",
    "#False\n",
    "#None"
   ]
  },
  {
   "cell_type": "code",
   "execution_count": 196,
   "id": "ef368222-f35b-48bc-8907-84e3d9d0a4df",
   "metadata": {},
   "outputs": [
    {
     "name": "stdout",
     "output_type": "stream",
     "text": [
      "{\"name\": \"John\", \"age\": 30}\n",
      "[\"apple\", \"bananas\"]\n",
      "[\"apple\", \"bananas\"]\n",
      "\"hello\"\n",
      "42\n",
      "31.76\n",
      "true\n",
      "false\n",
      "null\n"
     ]
    }
   ],
   "source": [
    "#Convert Python objects into JSON strings, and print the values:\n",
    "import json\n",
    "\n",
    "print(json.dumps({\"name\": \"John\", \"age\": 30}))\n",
    "print(json.dumps([\"apple\", \"bananas\"]))\n",
    "print(json.dumps((\"apple\", \"bananas\")))\n",
    "print(json.dumps(\"hello\"))\n",
    "print(json.dumps(42))\n",
    "print(json.dumps(31.76))\n",
    "print(json.dumps(True))\n",
    "print(json.dumps(False))\n",
    "print(json.dumps(None))"
   ]
  },
  {
   "cell_type": "code",
   "execution_count": 198,
   "id": "b1c00714-468e-4080-9045-4d0693f890e0",
   "metadata": {},
   "outputs": [],
   "source": [
    "#When you convert from Python to JSON, Python objects are converted into the JSON (JavaScript) equivalent:\n",
    "#Python\t                                JSON\n",
    "#dict\t                                Object\n",
    "#list\t                                Array\n",
    "#tuple\t                                Array\n",
    "#str                                 \tString\n",
    "#int\t                                Number\n",
    "#float\t                                Number\n",
    "#True\t                                true\n",
    "#False\t                                false\n",
    "#None\t                                null"
   ]
  },
  {
   "cell_type": "code",
   "execution_count": 200,
   "id": "fcf8550a-0840-43c6-9182-0507eec023be",
   "metadata": {},
   "outputs": [
    {
     "name": "stdout",
     "output_type": "stream",
     "text": [
      "{\"name\": \"John\", \"age\": 30, \"married\": true, \"divorced\": false, \"children\": [\"Ann\", \"Billy\"], \"pets\": null, \"cars\": [{\"model\": \"BMW 230\", \"mpg\": 27.5}, {\"model\": \"Ford Edge\", \"mpg\": 24.1}]}\n"
     ]
    }
   ],
   "source": [
    "#Convert a Python object containing all the legal data types:\n",
    "import json\n",
    "\n",
    "x = {\n",
    "  \"name\": \"John\",\n",
    "  \"age\": 30,\n",
    "  \"married\": True,\n",
    "  \"divorced\": False,\n",
    "  \"children\": (\"Ann\",\"Billy\"),\n",
    "  \"pets\": None,\n",
    "  \"cars\": [\n",
    "    {\"model\": \"BMW 230\", \"mpg\": 27.5},\n",
    "    {\"model\": \"Ford Edge\", \"mpg\": 24.1}\n",
    "  ]\n",
    "}\n",
    "\n",
    "print(json.dumps(x))"
   ]
  },
  {
   "cell_type": "code",
   "execution_count": 202,
   "id": "7db97bcf-dfc3-4a58-aa5e-dacebc65adad",
   "metadata": {},
   "outputs": [],
   "source": [
    "#The example above prints a JSON string, but it is not very easy to read, with no indentations and line breaks.\n",
    "#The json.dumps() method has parameters to make it easier to read the result:"
   ]
  },
  {
   "cell_type": "code",
   "execution_count": 204,
   "id": "f845d06d-8d0e-4b1c-adc0-365794e83b2e",
   "metadata": {},
   "outputs": [
    {
     "data": {
      "text/plain": [
       "'{\\n    \"name\": \"John\",\\n    \"age\": 30,\\n    \"married\": true,\\n    \"divorced\": false,\\n    \"children\": [\\n        \"Ann\",\\n        \"Billy\"\\n    ],\\n    \"pets\": null,\\n    \"cars\": [\\n        {\\n            \"model\": \"BMW 230\",\\n            \"mpg\": 27.5\\n        },\\n        {\\n            \"model\": \"Ford Edge\",\\n            \"mpg\": 24.1\\n        }\\n    ]\\n}'"
      ]
     },
     "execution_count": 204,
     "metadata": {},
     "output_type": "execute_result"
    }
   ],
   "source": [
    "#Use the indent parameter to define the numbers of indents:\n",
    "\n",
    "json.dumps(x, indent=4)"
   ]
  },
  {
   "cell_type": "code",
   "execution_count": 206,
   "id": "c9275d95-b56c-406f-a70f-85ce360df481",
   "metadata": {},
   "outputs": [],
   "source": [
    "#You can also define the separators, default value is (\", \", \": \"), which means using a comma and a space to separate each object, \n",
    "#and a colon and a space to separate keys from values:"
   ]
  },
  {
   "cell_type": "code",
   "execution_count": 208,
   "id": "bc1d88b4-7d35-48c2-bb48-fc35a2278675",
   "metadata": {},
   "outputs": [],
   "source": [
    "#Use the separators parameter to change the default separator:"
   ]
  },
  {
   "cell_type": "code",
   "execution_count": 210,
   "id": "d946fcc7-b361-41fa-bf7c-248460252e7b",
   "metadata": {},
   "outputs": [
    {
     "data": {
      "text/plain": [
       "'{\\n    \"name\" = \"John\". \\n    \"age\" = 30. \\n    \"married\" = true. \\n    \"divorced\" = false. \\n    \"children\" = [\\n        \"Ann\". \\n        \"Billy\"\\n    ]. \\n    \"pets\" = null. \\n    \"cars\" = [\\n        {\\n            \"model\" = \"BMW 230\". \\n            \"mpg\" = 27.5\\n        }. \\n        {\\n            \"model\" = \"Ford Edge\". \\n            \"mpg\" = 24.1\\n        }\\n    ]\\n}'"
      ]
     },
     "execution_count": 210,
     "metadata": {},
     "output_type": "execute_result"
    }
   ],
   "source": [
    "json.dumps(x, indent=4, separators=(\". \", \" = \"))"
   ]
  },
  {
   "cell_type": "code",
   "execution_count": 212,
   "id": "ef3a7039-91a7-4057-bfb4-f1e55c0b7039",
   "metadata": {},
   "outputs": [],
   "source": [
    "#The json.dumps() method has parameters to order the keys in the result:"
   ]
  },
  {
   "cell_type": "code",
   "execution_count": 214,
   "id": "0d425cfe-e86f-4ee5-a0e9-51339da1ffc2",
   "metadata": {},
   "outputs": [
    {
     "data": {
      "text/plain": [
       "'{\\n    \"age\": 30,\\n    \"cars\": [\\n        {\\n            \"model\": \"BMW 230\",\\n            \"mpg\": 27.5\\n        },\\n        {\\n            \"model\": \"Ford Edge\",\\n            \"mpg\": 24.1\\n        }\\n    ],\\n    \"children\": [\\n        \"Ann\",\\n        \"Billy\"\\n    ],\\n    \"divorced\": false,\\n    \"married\": true,\\n    \"name\": \"John\",\\n    \"pets\": null\\n}'"
      ]
     },
     "execution_count": 214,
     "metadata": {},
     "output_type": "execute_result"
    }
   ],
   "source": [
    "#Use the sort_keys parameter to specify if the result should be sorted or not:\n",
    "\n",
    "json.dumps(x, indent=4, sort_keys=True)"
   ]
  }
 ],
 "metadata": {
  "kernelspec": {
   "display_name": "Python [conda env:base] *",
   "language": "python",
   "name": "conda-base-py"
  },
  "language_info": {
   "codemirror_mode": {
    "name": "ipython",
    "version": 3
   },
   "file_extension": ".py",
   "mimetype": "text/x-python",
   "name": "python",
   "nbconvert_exporter": "python",
   "pygments_lexer": "ipython3",
   "version": "3.12.7"
  }
 },
 "nbformat": 4,
 "nbformat_minor": 5
}
